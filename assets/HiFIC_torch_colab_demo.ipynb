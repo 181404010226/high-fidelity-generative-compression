{
  "nbformat": 4,
  "nbformat_minor": 0,
  "metadata": {
    "colab": {
      "name": "HiFIC_torch_colab_demo.ipynb",
      "provenance": [],
      "collapsed_sections": [],
      "toc_visible": true
    },
    "kernelspec": {
      "display_name": "Python 3",
      "name": "python3"
    },
    "accelerator": "GPU"
  },
  "cells": [
    {
      "cell_type": "markdown",
      "metadata": {
        "id": "rpm_NksQMtNr",
        "colab_type": "text"
      },
      "source": [
        "# HiFIC Demo\n",
        "Compress arbitrary images in Colab using a pretrained neural compression model. This is a Pytorch port of the [High-Fidelity Image Compression](https://hific.github.io/) project - see the [Github repo](https://github.com/Justin-Tan/high-fidelity-generative-compression) for the source.\n"
      ]
    },
    {
      "cell_type": "markdown",
      "metadata": {
        "colab_type": "text",
        "id": "Umer7W0VbITT"
      },
      "source": [
        "## Setup Colab Environment"
      ]
    },
    {
      "cell_type": "code",
      "metadata": {
        "id": "M227Y3aWcott",
        "colab_type": "code",
        "colab": {}
      },
      "source": [
        "import torch\n",
        "import numpy as np\n",
        "\n",
        "import os\n",
        "import glob\n",
        "import urllib\n",
        "import zipfile\n",
        "import collections\n",
        "\n",
        "from google.colab import files\n",
        "from PIL import Image\n",
        "from IPython.display import Image as DisplayImage\n",
        "from IPython.display import Javascript\n",
        "from IPython.core.display import display, HTML\n",
        "\n",
        "INPUT_DIR = '/content/files'\n",
        "STAGING_DIR = '/content/stage'\n",
        "OUT_DIR = '/content/out'\n",
        "CKPT_DIR = '/content/checkpoint'\n",
        "DEFAULT_IMAGE_PREFIX = ('https://storage.googleapis.com/hific/clic2020/images/originals/')\n",
        "File = collections.namedtuple('File', ['output_path', 'compressed_path',\n",
        "                                       'num_bytes', 'bpp'])\n",
        "_ = [os.makedirs(dir, exist_ok=True) for dir in (INPUT_DIR, STAGING_DIR, OUT_DIR,\n",
        "                                                 CKPT_DIR)]\n",
        "first_model_init = False\n",
        "original_sizes = dict()"
      ],
      "execution_count": null,
      "outputs": []
    },
    {
      "cell_type": "code",
      "metadata": {
        "id": "bPU2WMlMZviB",
        "colab_type": "code",
        "colab": {}
      },
      "source": [
        "def print_html(html):\n",
        "    display(HTML(html + '<br/>'))\n",
        "\n",
        "def make_cell_large():\n",
        "    display(Javascript(\n",
        "        '''google.colab.output.setIframeHeight(0, true, {maxHeight: 5192})'''))\n",
        "\n",
        "def get_default_image(output_dir, image_choice):\n",
        "    image_ID = dict(clocktower=\"9cbf2594f339c0d3d0f0ea25c62af52b.png\",\n",
        "                    portrait=\"ad249bba099568403dc6b97bc37f8d74.png\",\n",
        "                    plaza=\"d78b363974ac79908b79012f48de715d.png\",\n",
        "                    cafe=\"b1b8f33917a40c9d0b118ef801de67d4.png\",\n",
        "                    city=\"b98ec5b29d02ef65e57d23ef90660b4d.png\",\n",
        "                    tundra=\"cc831c904a314a0e98530124526e930b.png\",\n",
        "                    cat=\"4fa92b8ecb4ee46a942837447de1ac5c.png\")[image_choice]\n",
        "    default_image_url = os.path.join(DEFAULT_IMAGE_PREFIX, image_ID)\n",
        "    output_path = os.path.join(output_dir, os.path.basename(default_image_url))\n",
        "    print('Downloading', default_image_url, '\\n->', output_path)\n",
        "    urllib.request.urlretrieve(default_image_url, output_path)\n",
        "\n",
        "def get_model_checkpoint(output_dir, model_ID, model_choice):\n",
        "    output_path = os.path.join(output_dir, f'{model_choice.lower()}.pt')\n",
        "    if os.path.exists(output_path):\n",
        "        print('File already exists at', '\\n->', output_path)\n",
        "        return output_path\n",
        "    else:\n",
        "        print('Downloading model to', '\\n->', output_path)\n",
        "        !wget -q --show-progress --load-cookies /tmp/cookies.txt \"https://docs.google.com/uc?export=download&confirm=$(wget --quiet --save-cookies /tmp/cookies.txt --keep-session-cookies --no-check-certificate 'https://docs.google.com/uc?export=download&id=$model_ID' -O- | sed -rn 's/.*confirm=([0-9A-Za-z_]+).*/\\1\\n/p')&id=$model_ID\" -O $output_path && rm -rf /tmp/cookies.txt\n",
        "    return output_path"
      ],
      "execution_count": null,
      "outputs": []
    },
    {
      "cell_type": "markdown",
      "metadata": {
        "id": "tiY97nwyJia9",
        "colab_type": "text"
      },
      "source": [
        "## Select Model\n",
        "Higher bitrates result in higher-fidelity reconstructions, at the expense of increased message length."
      ]
    },
    {
      "cell_type": "code",
      "metadata": {
        "id": "ulxLn5j7n_an",
        "colab_type": "code",
        "colab": {}
      },
      "source": [
        "# Enter choice to right\n",
        "model_choice = 'HIFIC-med' #@param [\"HIFIC-low\", \"HIFIC-med\", \"HIFIC-high\"]\n"
      ],
      "execution_count": null,
      "outputs": []
    },
    {
      "cell_type": "markdown",
      "metadata": {
        "id": "kA9r_M230r7x",
        "colab_type": "text"
      },
      "source": [
        "Clone repo and grab the model checkpoint (around 2 GB)."
      ]
    },
    {
      "cell_type": "code",
      "metadata": {
        "id": "nOPsakQLKJGr",
        "colab_type": "code",
        "colab": {}
      },
      "source": [
        "# Drive IDs\n",
        "model_choices = {'HIFIC-low': '1hfFTkZbs_VOBmXQ-M4bYEPejrD76lAY9',\n",
        "                 'HIFIC-med': '1QNoX0AGKTBkthMJGPfQI0dT0_tnysYUb',\n",
        "                 'HIFIC-high': '1BFYpvhVIA_Ek2QsHBbKnaBE8wn1GhFyA'}\n",
        "\n",
        "model_ID = model_choices[model_choice]\n",
        "model_path = get_model_checkpoint(CKPT_DIR, model_ID, model_choice)"
      ],
      "execution_count": null,
      "outputs": []
    },
    {
      "cell_type": "code",
      "metadata": {
        "id": "8a0vpM2j1EBz",
        "colab_type": "code",
        "colab": {}
      },
      "source": [
        "!git clone https://github.com/Justin-Tan/high-fidelity-generative-compression.git\n",
        "%cd high-fidelity-generative-compression/\n",
        "from compress import prepare_model, prepare_dataloader, compress_and_save, load_and_decompress, compress_and_decompress"
      ],
      "execution_count": null,
      "outputs": []
    },
    {
      "cell_type": "markdown",
      "metadata": {
        "id": "z7ptGgrzkATB",
        "colab_type": "text"
      },
      "source": [
        "## Prepare Images\n",
        "\n",
        "To upload your own images (JPG or PNG without alpha channels), set `custom_image=True` in the following cell. Otherwise, we'll use a default image from the CLIC2020 Compression Challenge dataset.\n",
        "\n",
        "Alternatively, you can use the `Files` tab on the left and select the `Upload to session storage` icon to upload more custom images."
      ]
    },
    {
      "cell_type": "code",
      "metadata": {
        "id": "kJZlFxcNyK2M",
        "colab_type": "code",
        "colab": {}
      },
      "source": [
        "custom_image = False #@param [\"False\", \"True\"] {type:\"raw\"}"
      ],
      "execution_count": null,
      "outputs": []
    },
    {
      "cell_type": "code",
      "metadata": {
        "id": "37LNwIexHmu8",
        "colab_type": "code",
        "colab": {}
      },
      "source": [
        "# Choose default images from CLIC2020 dataset\n",
        "# Skip if uploading custom images\n",
        "default_image = 'portrait' #@param [\"clocktower\", \"portrait\", \"plaza\", \"cafe\", \"city\", \"tundra\", \"cat\"]\n"
      ],
      "execution_count": null,
      "outputs": []
    },
    {
      "cell_type": "code",
      "metadata": {
        "id": "A_S4bo4vhU_P",
        "colab_type": "code",
        "colab": {}
      },
      "source": [
        "if custom_image is True:\n",
        "    print('Using user-defined images.')\n",
        "    # Get dict of upload files\n",
        "    uploaded = files.upload()\n",
        "\n",
        "    for fn in uploaded.keys():\n",
        "        print('User uploaded file \"{name}\" with length {length} bytes'.format(\n",
        "            name=fn, length=len(uploaded[fn])))\n",
        "        !mv -iv $fn $INPUT_DIR\n",
        "else:\n",
        "    print('Using default image.')\n",
        "    # Download default image\n",
        "    get_default_image(INPUT_DIR, default_image)\n",
        "\n",
        "all_files = os.listdir(INPUT_DIR)\n",
        "print(f'Got following files ({len(all_files)}):')\n",
        "scale_factor = 2 if len(all_files) == 1 else 4\n",
        "\n",
        "for file_name in all_files:\n",
        "    img = Image.open(os.path.join(INPUT_DIR, file_name))\n",
        "    w, h = img.size\n",
        "    img = img.resize((w // scale_factor, h // scale_factor))\n",
        "    print('-> ' + file_name + ':')\n",
        "    display(img)"
      ],
      "execution_count": null,
      "outputs": []
    },
    {
      "cell_type": "code",
      "metadata": {
        "colab_type": "code",
        "id": "kd02HOhLBj6e",
        "colab": {}
      },
      "source": [
        "SUPPORTED_EXT = {'.png', '.jpg'}\n",
        "\n",
        "all_files = os.listdir(INPUT_DIR)\n",
        "if not all_files:\n",
        "    raise ValueError(\"Please upload images!\")\n",
        "\n",
        "def get_bpp(image_dimensions, num_bytes):\n",
        "    w, h = image_dimensions\n",
        "    return num_bytes * 8 / (w * h)\n",
        "\n",
        "def has_alpha(img_p):\n",
        "    im = Image.open(img_p)\n",
        "    return im.mode == 'RGBA'\n",
        "\n",
        "!rm -v $STAGING_DIR/*\n",
        "\n",
        "for file_name in all_files:\n",
        "    if os.path.isdir(file_name):\n",
        "        continue\n",
        "    if not any(file_name.endswith(ext) for ext in SUPPORTED_EXT):\n",
        "        print('Skipping non-image', file_name, '...')\n",
        "        continue\n",
        "    full_path = os.path.join(INPUT_DIR, file_name)\n",
        "    if has_alpha(full_path) is True:\n",
        "        print('Skipping because of alpha channel:', file_name)\n",
        "        continue\n",
        "    \n",
        "    file_name, _ = os.path.splitext(file_name)\n",
        "    original_sizes[file_name] = os.path.getsize(full_path)\n",
        "    output_path = os.path.join(OUT_DIR, f'{file_name}.png')\n",
        "    !mv -v $full_path $STAGING_DIR"
      ],
      "execution_count": null,
      "outputs": []
    },
    {
      "cell_type": "markdown",
      "metadata": {
        "id": "2nYQ1lZpwWG-",
        "colab_type": "text"
      },
      "source": [
        "## Enabling GPU\n",
        "\n",
        "GPU should be enabled for this Colab. If the next cell prints a warning, do the following:\n",
        "- Navigate to `Edit →> Notebook Settings`\n",
        "- Select GPU from the Hardware Accelerator drop-down\n"
      ]
    },
    {
      "cell_type": "code",
      "metadata": {
        "id": "y0U-OwqpwZsv",
        "colab_type": "code",
        "colab": {
          "base_uri": "https://localhost:8080/",
          "height": 34
        },
        "outputId": "b2ff0c78-ca08-4699-a518-8e75750a635b"
      },
      "source": [
        "if torch.cuda.is_available() is False:\n",
        "  print('WARNING: No GPU found. Compression/decompression will be slow!')\n",
        "else:\n",
        "  print(f'Found GPU {torch.cuda.get_device_name(0)}')"
      ],
      "execution_count": null,
      "outputs": []
    },
    {
      "cell_type": "markdown",
      "metadata": {
        "id": "lzaWP_G9w0Wh",
        "colab_type": "text"
      },
      "source": [
        "# Compress Images\n",
        "Note: Models can take up to a minute to load on Colab, depending on the allocated GPU and chosen model - you only need to run the following cell once per session.\n",
        "\n"
      ]
    },
    {
      "cell_type": "code",
      "metadata": {
        "id": "TeIsfPxcG1Ro",
        "colab_type": "code",
        "colab": {}
      },
      "source": [
        "# Setup model\n",
        "if first_model_init is False:\n",
        "    print('Building model ...')\n",
        "    model, args = prepare_model(model_path, STAGING_DIR)\n",
        "    first_model_init = True"
      ],
      "execution_count": null,
      "outputs": []
    },
    {
      "cell_type": "markdown",
      "metadata": {
        "id": "ij6avY8OyG4I",
        "colab_type": "text"
      },
      "source": [
        "Encode images and save compressed format to disk. Note: depending on the allocated GPU, large images (`>~ 4000x4000 px`) may throw an OOM error."
      ]
    },
    {
      "cell_type": "code",
      "metadata": {
        "id": "jHgSCmS5RRZ1",
        "colab_type": "code",
        "colab": {}
      },
      "source": [
        "%%time\n",
        "data_loader = prepare_dataloader(args, STAGING_DIR, OUT_DIR)\n",
        "compress_and_save(model, args, data_loader, OUT_DIR)"
      ],
      "execution_count": null,
      "outputs": []
    },
    {
      "cell_type": "code",
      "execution_count": null,
      "metadata": {},
      "outputs": [],
      "source": [
        "# Check compressed filesizes\n",
        "!ls -ltrh $OUT_DIR"
      ]
    },
    {
      "cell_type": "markdown",
      "metadata": {
        "id": "BnxLDQ1SyNMU",
        "colab_type": "text"
      },
      "source": [
        "Load compressed format from disk and decode"
      ]
    },
    {
      "cell_type": "code",
      "metadata": {
        "id": "-xwUN5HRRVSk",
        "colab_type": "code",
        "colab": {
          "base_uri": "https://localhost:8080/",
          "height": 51
        },
        "outputId": "a4821bcc-3b48-40ab-e241-dc5d7f5f5f65"
      },
      "source": [
        "all_outputs = []\n",
        "\n",
        "for compressed_file in glob.glob(os.path.join(OUT_DIR, '*.hfc')):\n",
        "    file_name, _ = os.path.splitext(compressed_file)\n",
        "    output_path = os.path.join(OUT_DIR, f'{file_name}.png')\n",
        "\n",
        "    # Model decode\n",
        "    reconstruction = load_and_decompress(model, compressed_file, output_path)\n",
        "    \n",
        "    all_outputs.append(File(output_path=output_path,\n",
        "                            compressed_path=compressed_file,\n",
        "                            num_bytes=os.path.getsize(compressed_file),\n",
        "                            bpp=get_bpp(Image.open(output_path).size, os.path.getsize(compressed_file))))\n",
        "                            \n",
        "torch.cuda.empty_cache()"
      ],
      "execution_count": null,
      "outputs": []
    },
    {
      "cell_type": "markdown",
      "metadata": {
        "id": "HQhQQs-CTkgy",
        "colab_type": "text"
      },
      "source": [
        "# Show output"
      ]
    },
    {
      "cell_type": "code",
      "metadata": {
        "colab_type": "code",
        "id": "3nVCPeDnskD8",
        "colab": {}
      },
      "source": [
        "make_cell_large()  # Larger output window.\n",
        "\n",
        "for file in all_outputs:\n",
        "    print_html('<hr/>')\n",
        "    file_name, _ = os.path.splitext(file.output_path)\n",
        "    original_size = original_sizes[os.path.basename(file_name).split('_compressed')[0]]\n",
        "    print(f'Showing {file.output_path} | {file.num_bytes//1000} kB (compressed) | {file.bpp:.4f} bpp | Original: {original_size//1000} kB')\n",
        "    display(Image.open(file.output_path))\n",
        "    print_html('<hr/>')"
      ],
      "execution_count": null,
      "outputs": []
    },
    {
      "cell_type": "markdown",
      "metadata": {
        "id": "4b-wkBnyrTAR",
        "colab_type": "text"
      },
      "source": [
        "### Download compressed images\n",
        "\n",
        "Note: Files are losslessly saved as PNG for viewing.\n"
      ]
    },
    {
      "cell_type": "code",
      "metadata": {
        "id": "Xn3epZhUYWOw",
        "colab_type": "code",
        "colab": {}
      },
      "source": [
        "download_outputs = True #@param [\"False\", \"True\"] {type:\"raw\"}"
      ],
      "execution_count": null,
      "outputs": []
    },
    {
      "cell_type": "code",
      "metadata": {
        "id": "9BKccvcTpj1k",
        "colab_type": "code",
        "colab": {
          "base_uri": "https://localhost:8080/",
          "height": 17
        },
        "outputId": "0a90ac36-9cb9-4f06-ef33-7bbe7591b4ea"
      },
      "source": [
        "if download_outputs is True:\n",
        "    ZIP = '/content/hific_compressed_images.zip'\n",
        "\n",
        "    with zipfile.ZipFile(ZIP, 'w') as zf:\n",
        "        for f in all_outputs:\n",
        "            path_with_bpp = f.output_path.replace('.png', f'-{f.bpp:.3f}bpp.png')\n",
        "            zf.write(f.output_path, os.path.basename(path_with_bpp))\n",
        "\n",
        "    files.download(ZIP) "
      ],
      "execution_count": null,
      "outputs": []
    },
    {
      "cell_type": "markdown",
      "metadata": {
        "id": "Fo8Jo47741ih",
        "colab_type": "text"
      },
      "source": [
        "# Citation\n",
        "\n",
        "This is a re-implementation of the orignal paper. Please cite the [original paper](https://arxiv.org/abs/2006.09965) if you use their work.\n",
        "\n",
        "```bash\n",
        "@article{mentzer2020high,\n",
        "  title={High-Fidelity Generative Image Compression},\n",
        "  author={Mentzer, Fabian and Toderici, George and Tschannen, Michael and Agustsson, Eirikur},\n",
        "  journal={arXiv preprint arXiv:2006.09965},\n",
        "  year={2020}\n",
        "}\n",
        "```"
      ]
    },
    {
      "cell_type": "code",
      "execution_count": null,
      "metadata": {},
      "outputs": [],
      "source": []
    }
  ]
}