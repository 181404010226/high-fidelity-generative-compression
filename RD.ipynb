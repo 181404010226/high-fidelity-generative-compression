{
 "cells": [
  {
   "cell_type": "code",
   "execution_count": 1,
   "metadata": {},
   "outputs": [],
   "source": [
    "import numpy as np\n",
    "import matplotlib as mpl\n",
    "import matplotlib.pyplot as plt\n",
    "import pandas as pd\n",
    "import seaborn as sns\n",
    "import os, glob, time\n",
    "import itertools, functools\n",
    "from tqdm import tqdm\n",
    "\n",
    "from collections import defaultdict, OrderedDict"
   ]
  },
  {
   "cell_type": "code",
   "execution_count": 2,
   "metadata": {},
   "outputs": [],
   "source": [
    "ckpt_dirs = glob.glob('experiments/log_lambda_*')\n",
    "ckpts = []\n",
    "for cd in ckpt_dirs:\n",
    "    ckpts_i = glob.glob(f'{cd}/checkpoints/*.pt')\n",
    "    try:\n",
    "        latest_file = max(ckpts_i, key=os.path.getctime)\n",
    "    except ValueError:\n",
    "        continue\n",
    "    ckpts.append(latest_file)"
   ]
  },
  {
   "cell_type": "markdown",
   "metadata": {},
   "source": [
    "# for ckpt in ckpts: \n",
    "#     !python3 compress.py -i data/kodak -o data/new_curves -ckpt $ckpt -silent -metrics "
   ]
  },
  {
   "cell_type": "code",
   "execution_count": 3,
   "metadata": {},
   "outputs": [],
   "source": [
    "log_dirs = glob.glob('data/curves/*.h5')# + glob.glob('data/new_curves/*.h5')"
   ]
  },
  {
   "cell_type": "code",
   "execution_count": 4,
   "metadata": {},
   "outputs": [
    {
     "data": {
      "text/plain": [
       "['data/curves/log_lambda_neg5_openimages_compression_2020_09_27_17_43_epoch3_idx100001_2020_09_28_11:40_compression_metrics.h5',\n",
       " 'data/curves/log_lambda_2_openimages_compression_2020_09_27_17_59_epoch3_idx100001_2020_09_28_12:02_compression_metrics.h5',\n",
       " 'data/curves/log_lambda_1_openimages_compression_2020_09_27_17_50_epoch3_idx100001_2020_09_28_20:28_compression_metrics.h5',\n",
       " 'data/curves/log_lambda_neg4_openimages_compression_2020_09_27_17_44_epoch3_idx100001_2020_09_28_11:42_compression_metrics.h5',\n",
       " 'data/curves/log_lambda_neg7_openimages_compression_2020_09_28_04_22_epoch3_idx89040_2020_09_28_20:22_compression_metrics.h5',\n",
       " 'data/curves/log_lambda_neg6_openimages_compression_2020_09_27_17_43_epoch3_idx100001_2020_09_28_11:40_compression_metrics.h5',\n",
       " 'data/curves/log_lambda_neg1_openimages_compression_2020_09_27_17_48_epoch3_idx100001_2020_09_28_20:26_compression_metrics.h5',\n",
       " 'data/curves/log_lambda_neg7_openimages_compression_2020_09_28_04_22_epoch2_idx59360_2020_09_28_15:02_compression_metrics.h5',\n",
       " 'data/curves/log_lambda_0_openimages_compression_2020_09_27_17_48_epoch3_idx100001_2020_09_28_20:25_compression_metrics.h5',\n",
       " 'data/curves/log_lambda_neg3_openimages_compression_2020_09_27_17_59_epoch3_idx100001_2020_09_28_11:57_compression_metrics.h5',\n",
       " 'data/curves/log_lambda_neg2_openimages_compression_2020_09_27_17_47_epoch3_idx100001_2020_09_28_20:24_compression_metrics.h5',\n",
       " 'data/curves/log_lambda_3_openimages_compression_2020_09_27_18_14_epoch3_idx100001_2020_09_28_12:12_compression_metrics.h5']"
      ]
     },
     "execution_count": 4,
     "metadata": {},
     "output_type": "execute_result"
    }
   ],
   "source": [
    "log_dirs"
   ]
  },
  {
   "cell_type": "code",
   "execution_count": 5,
   "metadata": {},
   "outputs": [
    {
     "data": {
      "text/plain": [
       "['data/curves/log_lambda_neg5_openimages_compression_2020_09_27_17_43_epoch3_idx100001_2020_09_28_11:40_compression_metrics.h5',\n",
       " 'data/curves/log_lambda_2_openimages_compression_2020_09_27_17_59_epoch3_idx100001_2020_09_28_12:02_compression_metrics.h5',\n",
       " 'data/curves/log_lambda_1_openimages_compression_2020_09_27_17_50_epoch3_idx100001_2020_09_28_20:28_compression_metrics.h5',\n",
       " 'data/curves/log_lambda_neg4_openimages_compression_2020_09_27_17_44_epoch3_idx100001_2020_09_28_11:42_compression_metrics.h5',\n",
       " 'data/curves/log_lambda_neg7_openimages_compression_2020_09_28_04_22_epoch3_idx89040_2020_09_28_20:22_compression_metrics.h5',\n",
       " 'data/curves/log_lambda_neg6_openimages_compression_2020_09_27_17_43_epoch3_idx100001_2020_09_28_11:40_compression_metrics.h5',\n",
       " 'data/curves/log_lambda_neg1_openimages_compression_2020_09_27_17_48_epoch3_idx100001_2020_09_28_20:26_compression_metrics.h5',\n",
       " 'data/curves/log_lambda_neg7_openimages_compression_2020_09_28_04_22_epoch2_idx59360_2020_09_28_15:02_compression_metrics.h5',\n",
       " 'data/curves/log_lambda_0_openimages_compression_2020_09_27_17_48_epoch3_idx100001_2020_09_28_20:25_compression_metrics.h5',\n",
       " 'data/curves/log_lambda_neg3_openimages_compression_2020_09_27_17_59_epoch3_idx100001_2020_09_28_11:57_compression_metrics.h5',\n",
       " 'data/curves/log_lambda_neg2_openimages_compression_2020_09_27_17_47_epoch3_idx100001_2020_09_28_20:24_compression_metrics.h5',\n",
       " 'data/curves/log_lambda_3_openimages_compression_2020_09_27_18_14_epoch3_idx100001_2020_09_28_12:12_compression_metrics.h5']"
      ]
     },
     "execution_count": 5,
     "metadata": {},
     "output_type": "execute_result"
    }
   ],
   "source": [
    "log_dirs"
   ]
  },
  {
   "cell_type": "code",
   "execution_count": 26,
   "metadata": {},
   "outputs": [],
   "source": [
    "records = defaultdict(dict)\n",
    "for log in log_dirs:\n",
    "    fname = os.path.basename(log).split('_openimages')[0].strip()\n",
    "    df = pd.read_hdf(log)\n",
    "    sign = 1\n",
    "    if 'neg' in fname:\n",
    "        sign = -1\n",
    "    fname = int(fname[-1]) * sign\n",
    "    records[fname]['rate'] = df.q_bpp.mean()\n",
    "    records[fname]['LPIPS'] = df.LPIPS.mean()\n",
    "    records[fname]['PSNR'] = df.PSNR.mean()\n",
    "    records[fname]['MS_SSIM'] = df.MS_SSIM.mean()"
   ]
  },
  {
   "cell_type": "code",
   "execution_count": 27,
   "metadata": {},
   "outputs": [],
   "source": [
    "records = OrderedDict(sorted(records.items()))"
   ]
  },
  {
   "cell_type": "code",
   "execution_count": 34,
   "metadata": {},
   "outputs": [
    {
     "data": {
      "text/plain": [
       "{'rate': 0.06086595356464386,\n",
       " 'LPIPS': 0.1902853101491928,\n",
       " 'PSNR': 25.41691017150879,\n",
       " 'MS_SSIM': 0.8788809180259705}"
      ]
     },
     "execution_count": 34,
     "metadata": {},
     "output_type": "execute_result"
    }
   ],
   "source": [
    "records.pop(-7)\n",
    "records.pop(3)\n",
    "records.pop(2)"
   ]
  },
  {
   "cell_type": "code",
   "execution_count": 35,
   "metadata": {},
   "outputs": [],
   "source": [
    "rate = [records[i]['rate'] for i in range(min(records.keys()), max(records.keys()))]\n",
    "lpips = [records[i]['LPIPS'] for i in range(min(records.keys()), max(records.keys()))]\n",
    "psnr = [records[i]['PSNR'] for i in range(min(records.keys()), max(records.keys()))]\n",
    "ms_ssim = [records[i]['MS_SSIM'] for i in range(min(records.keys()), max(records.keys()))]"
   ]
  },
  {
   "cell_type": "code",
   "execution_count": 36,
   "metadata": {},
   "outputs": [],
   "source": [
    "sns.set_style(\"whitegrid\")"
   ]
  },
  {
   "cell_type": "code",
   "execution_count": 37,
   "metadata": {},
   "outputs": [
    {
     "data": {
      "text/plain": [
       "[1.1916099786758423,\n",
       " 0.9417542815208435,\n",
       " 0.7019307017326355,\n",
       " 0.509679913520813,\n",
       " 0.3491431474685669,\n",
       " 0.24392008781433105,\n",
       " 0.14090566337108612]"
      ]
     },
     "execution_count": 37,
     "metadata": {},
     "output_type": "execute_result"
    }
   ],
   "source": [
    "rate"
   ]
  },
  {
   "cell_type": "code",
   "execution_count": 38,
   "metadata": {},
   "outputs": [
    {
     "data": {
      "text/plain": [
       "Text(0, 0.5, 'LPIPS')"
      ]
     },
     "execution_count": 38,
     "metadata": {},
     "output_type": "execute_result"
    },
    {
     "data": {
      "image/png": "[encoded data removed]",
      "text/plain": [
       "<Figure size 432x288 with 1 Axes>"
      ]
     },
     "metadata": {},
     "output_type": "display_data"
    }
   ],
   "source": [
    "plt.plot(rate, lpips, 'o-', ms=3)\n",
    "plt.xlabel('Rate (BPP)')\n",
    "plt.ylabel('LPIPS')"
   ]
  },
  {
   "cell_type": "code",
   "execution_count": 39,
   "metadata": {},
   "outputs": [
    {
     "data": {
      "text/plain": [
       "Text(0, 0.5, 'PSNR')"
      ]
     },
     "execution_count": 39,
     "metadata": {},
     "output_type": "execute_result"
    },
    {
     "data": {
      "image/png": "[encoded data removed]",
      "text/plain": [
       "<Figure size 432x288 with 1 Axes>"
      ]
     },
     "metadata": {},
     "output_type": "display_data"
    }
   ],
   "source": [
    "plt.plot(rate, psnr, 'o-', ms=3)\n",
    "plt.xlabel('Rate (BPP)')\n",
    "plt.ylabel('PSNR')"
   ]
  },
  {
   "cell_type": "code",
   "execution_count": null,
   "metadata": {},
   "outputs": [],
   "source": [
    "def lambda_v_logpx(x, y, x_sig, y_sig, fname='lambda_v_logpx_bkg.pdf', lims=((-2,5),(0,4))):\n",
    "    xlim, ylilm = lims\n",
    "    xmin, xmax = xlim\n",
    "    ymin, ymax = ylilm\n",
    "    fs = 16\n",
    "    # xmin, xmax, ymin, ymax = -5,5,-5.,5\n",
    "\n",
    "    plt.figure(figsize=(10,6))\n",
    "    plt.tick_params(axis='both', which='major', labelsize=15)\n",
    "    # plt.tick_params(axis='both', which='minor', labelsize=15)\n",
    "    plt.hexbin(x,y,gridsize=((60,60)), extent=(xmin,xmax, ymin,ymax), cmap='viridis')#, label='Background')\n",
    "    # plt.hist2d(x,y,bins=((60,60)), range=((xmin,xmax),(ymin,ymax)),cmap='viridis')\n",
    "    cb=plt.colorbar()\n",
    "    cb.set_label(r'$N$', fontsize=fs)\n",
    "    cb.ax.tick_params(labelsize=15)\n",
    "\n",
    "    #create legend\n",
    "    line1 = Line2D(range(1), range(1), color=\"white\", marker='.', markersize=16, markerfacecolor=\"red\", linestyle='none')\n",
    "    line4 = Line2D(range(1), range(1), color=\"white\", marker='H',markersize=12,markerfacecolor=\"tab:green\", linestyle='none')\n",
    "    plt.legend((line1,line4),('Signal', 'Background'), numpoints=1, loc=2, fontsize=14)\n",
    "\n",
    "    color = 'red'\n",
    "    plt.xlim((xmin,xmax))\n",
    "    plt.ylim((ymin,ymax))\n",
    "    plt.scatter(x_sig,y_sig, marker='.', c=color, label='Signal', alpha=0.8)\n",
    "    # plt.legend(fontsize=18)\n",
    "\n",
    "    plt.xlabel(r'$\\log p(\\mathbf{x} \\vert \\textsf{bkg})$', fontsize=20)\n",
    "    # plt.ylabel(r'$\\log p(\\mathbf{x} \\vert \\textsf{data})$', fontsize=20)\n",
    "    plt.ylabel(r'$\\lambda(\\mathbf{x})^{-1}$', fontsize=20)\n",
    "    plt.savefig(os.path.join('imgs',fname), bbox_inches='tight', format='pdf', dpi=128)"
   ]
  },
  {
   "cell_type": "markdown",
   "metadata": {},
   "source": [
    "Points on the RD curve indicate $\\lambda$ values on an exponential grid from $[2^{-7}, 2^3]$."
   ]
  },
  {
   "cell_type": "code",
   "execution_count": 51,
   "metadata": {},
   "outputs": [
    {
     "data": {
      "text/plain": [
       "<matplotlib.legend.Legend at 0x2ad2a4eef198>"
      ]
     },
     "execution_count": 51,
     "metadata": {},
     "output_type": "execute_result"
    },
    {
     "data": {
      "image/png": "[encoded data removed]",
      "text/plain": [
       "<Figure size 720x432 with 1 Axes>"
      ]
     },
     "metadata": {},
     "output_type": "display_data"
    }
   ],
   "source": [
    "fig, ax = plt.subplots(1, 1, figsize=(10,6))\n",
    "ax.plot(rate, lpips, marker='>', ms=5, label='Mean-Scale Hyperprior')\n",
    "ax.get_xaxis().set_minor_locator(mpl.ticker.AutoMinorLocator())\n",
    "ax.get_yaxis().set_minor_locator(mpl.ticker.AutoMinorLocator())\n",
    "ax.grid(b=True, which='major', color='grey', linewidth=0.4)\n",
    "ax.grid(b=True, which='minor', color='grey', linewidth=0.15)\n",
    "\n",
    "ax.tick_params(axis='both', which='major', labelsize=15)\n",
    "plt.xlabel(r'Rate (BPP)', fontsize=20)\n",
    "# plt.ylabel(r'$\\log p(\\mathbf{x} \\vert \\textsf{data})$', fontsize=20)\n",
    "plt.ylabel(r'LPIPS', fontsize=20)\n",
    "plt.legend(fontsize=18)"
   ]
  },
  {
   "cell_type": "code",
   "execution_count": 8,
   "metadata": {},
   "outputs": [
    {
     "data": {
      "text/html": [
       "<div>\n",
       "<style scoped>\n",
       "    .dataframe tbody tr th:only-of-type {\n",
       "        vertical-align: middle;\n",
       "    }\n",
       "\n",
       "    .dataframe tbody tr th {\n",
       "        vertical-align: top;\n",
       "    }\n",
       "\n",
       "    .dataframe thead th {\n",
       "        text-align: right;\n",
       "    }\n",
       "</style>\n",
       "<table border=\"1\" class=\"dataframe\">\n",
       "  <thead>\n",
       "    <tr style=\"text-align: right;\">\n",
       "      <th></th>\n",
       "      <th>input_filename</th>\n",
       "      <th>output_filename</th>\n",
       "      <th>bpp_original</th>\n",
       "      <th>q_bpp</th>\n",
       "      <th>LPIPS</th>\n",
       "      <th>PSNR</th>\n",
       "      <th>MS_SSIM</th>\n",
       "    </tr>\n",
       "  </thead>\n",
       "  <tbody>\n",
       "    <tr>\n",
       "      <th>0</th>\n",
       "      <td>kodak_im15</td>\n",
       "      <td>data/curves/kodak_im15_RECON_0.806bpp.png</td>\n",
       "      <td>12.463013</td>\n",
       "      <td>0.805802</td>\n",
       "      <td>0.033382</td>\n",
       "      <td>31.896833</td>\n",
       "      <td>0.981218</td>\n",
       "    </tr>\n",
       "    <tr>\n",
       "      <th>1</th>\n",
       "      <td>kodak_im12</td>\n",
       "      <td>data/curves/kodak_im12_RECON_0.844bpp.png</td>\n",
       "      <td>10.803711</td>\n",
       "      <td>0.843865</td>\n",
       "      <td>0.032473</td>\n",
       "      <td>33.686520</td>\n",
       "      <td>0.982517</td>\n",
       "    </tr>\n",
       "    <tr>\n",
       "      <th>2</th>\n",
       "      <td>kodak_im18</td>\n",
       "      <td>data/curves/kodak_im18_RECON_1.061bpp.png</td>\n",
       "      <td>15.888408</td>\n",
       "      <td>1.060870</td>\n",
       "      <td>0.045519</td>\n",
       "      <td>28.477293</td>\n",
       "      <td>0.977917</td>\n",
       "    </tr>\n",
       "    <tr>\n",
       "      <th>3</th>\n",
       "      <td>kodak_im08</td>\n",
       "      <td>data/curves/kodak_im08_RECON_1.178bpp.png</td>\n",
       "      <td>16.041464</td>\n",
       "      <td>1.177995</td>\n",
       "      <td>0.046584</td>\n",
       "      <td>26.155327</td>\n",
       "      <td>0.981028</td>\n",
       "    </tr>\n",
       "    <tr>\n",
       "      <th>4</th>\n",
       "      <td>kodak_im21</td>\n",
       "      <td>data/curves/kodak_im21_RECON_0.878bpp.png</td>\n",
       "      <td>12.960835</td>\n",
       "      <td>0.878326</td>\n",
       "      <td>0.039994</td>\n",
       "      <td>29.680775</td>\n",
       "      <td>0.983347</td>\n",
       "    </tr>\n",
       "    <tr>\n",
       "      <th>5</th>\n",
       "      <td>kodak_im14</td>\n",
       "      <td>data/curves/kodak_im14_RECON_1.090bpp.png</td>\n",
       "      <td>14.082866</td>\n",
       "      <td>1.090473</td>\n",
       "      <td>0.053228</td>\n",
       "      <td>29.386656</td>\n",
       "      <td>0.980525</td>\n",
       "    </tr>\n",
       "    <tr>\n",
       "      <th>6</th>\n",
       "      <td>kodak_im11</td>\n",
       "      <td>data/curves/kodak_im11_RECON_0.977bpp.png</td>\n",
       "      <td>12.634746</td>\n",
       "      <td>0.977109</td>\n",
       "      <td>0.039119</td>\n",
       "      <td>30.238386</td>\n",
       "      <td>0.980469</td>\n",
       "    </tr>\n",
       "    <tr>\n",
       "      <th>7</th>\n",
       "      <td>kodak_im23</td>\n",
       "      <td>data/curves/kodak_im23_RECON_0.728bpp.png</td>\n",
       "      <td>11.344319</td>\n",
       "      <td>0.728376</td>\n",
       "      <td>0.015856</td>\n",
       "      <td>34.532951</td>\n",
       "      <td>0.987773</td>\n",
       "    </tr>\n",
       "    <tr>\n",
       "      <th>8</th>\n",
       "      <td>kodak_im20</td>\n",
       "      <td>data/curves/kodak_im20_RECON_0.659bpp.png</td>\n",
       "      <td>10.019165</td>\n",
       "      <td>0.659061</td>\n",
       "      <td>0.024829</td>\n",
       "      <td>32.181431</td>\n",
       "      <td>0.985066</td>\n",
       "    </tr>\n",
       "    <tr>\n",
       "      <th>9</th>\n",
       "      <td>kodak_im01</td>\n",
       "      <td>data/curves/kodak_im01_RECON_1.155bpp.png</td>\n",
       "      <td>14.984151</td>\n",
       "      <td>1.155156</td>\n",
       "      <td>0.049943</td>\n",
       "      <td>28.050940</td>\n",
       "      <td>0.977393</td>\n",
       "    </tr>\n",
       "    <tr>\n",
       "      <th>10</th>\n",
       "      <td>kodak_im06</td>\n",
       "      <td>data/curves/kodak_im06_RECON_0.974bpp.png</td>\n",
       "      <td>12.592753</td>\n",
       "      <td>0.973773</td>\n",
       "      <td>0.046690</td>\n",
       "      <td>28.916859</td>\n",
       "      <td>0.976091</td>\n",
       "    </tr>\n",
       "    <tr>\n",
       "      <th>11</th>\n",
       "      <td>kodak_im16</td>\n",
       "      <td>data/curves/kodak_im16_RECON_0.887bpp.png</td>\n",
       "      <td>10.869283</td>\n",
       "      <td>0.887061</td>\n",
       "      <td>0.040571</td>\n",
       "      <td>31.800447</td>\n",
       "      <td>0.981585</td>\n",
       "    </tr>\n",
       "    <tr>\n",
       "      <th>12</th>\n",
       "      <td>kodak_im04</td>\n",
       "      <td>data/curves/kodak_im04_RECON_0.888bpp.png</td>\n",
       "      <td>12.968587</td>\n",
       "      <td>0.888382</td>\n",
       "      <td>0.031516</td>\n",
       "      <td>32.768391</td>\n",
       "      <td>0.980173</td>\n",
       "    </tr>\n",
       "    <tr>\n",
       "      <th>13</th>\n",
       "      <td>kodak_im19</td>\n",
       "      <td>data/curves/kodak_im19_RECON_0.913bpp.png</td>\n",
       "      <td>13.661214</td>\n",
       "      <td>0.912858</td>\n",
       "      <td>0.039670</td>\n",
       "      <td>30.405529</td>\n",
       "      <td>0.979375</td>\n",
       "    </tr>\n",
       "    <tr>\n",
       "      <th>14</th>\n",
       "      <td>kodak_im10</td>\n",
       "      <td>data/curves/kodak_im10_RECON_0.895bpp.png</td>\n",
       "      <td>12.074036</td>\n",
       "      <td>0.894744</td>\n",
       "      <td>0.026281</td>\n",
       "      <td>32.841240</td>\n",
       "      <td>0.986636</td>\n",
       "    </tr>\n",
       "    <tr>\n",
       "      <th>15</th>\n",
       "      <td>kodak_im03</td>\n",
       "      <td>data/curves/kodak_im03_RECON_0.760bpp.png</td>\n",
       "      <td>10.231282</td>\n",
       "      <td>0.759665</td>\n",
       "      <td>0.027131</td>\n",
       "      <td>33.416500</td>\n",
       "      <td>0.985125</td>\n",
       "    </tr>\n",
       "    <tr>\n",
       "      <th>16</th>\n",
       "      <td>kodak_im09</td>\n",
       "      <td>data/curves/kodak_im09_RECON_0.792bpp.png</td>\n",
       "      <td>11.859111</td>\n",
       "      <td>0.791672</td>\n",
       "      <td>0.025579</td>\n",
       "      <td>33.445538</td>\n",
       "      <td>0.986424</td>\n",
       "    </tr>\n",
       "    <tr>\n",
       "      <th>17</th>\n",
       "      <td>kodak_im24</td>\n",
       "      <td>data/curves/kodak_im24_RECON_1.065bpp.png</td>\n",
       "      <td>14.371684</td>\n",
       "      <td>1.064671</td>\n",
       "      <td>0.041955</td>\n",
       "      <td>27.559721</td>\n",
       "      <td>0.981769</td>\n",
       "    </tr>\n",
       "    <tr>\n",
       "      <th>18</th>\n",
       "      <td>kodak_im17</td>\n",
       "      <td>data/curves/kodak_im17_RECON_0.899bpp.png</td>\n",
       "      <td>12.249309</td>\n",
       "      <td>0.899392</td>\n",
       "      <td>0.027408</td>\n",
       "      <td>32.608784</td>\n",
       "      <td>0.988214</td>\n",
       "    </tr>\n",
       "    <tr>\n",
       "      <th>19</th>\n",
       "      <td>kodak_im13</td>\n",
       "      <td>data/curves/kodak_im13_RECON_1.167bpp.png</td>\n",
       "      <td>16.738119</td>\n",
       "      <td>1.167168</td>\n",
       "      <td>0.089811</td>\n",
       "      <td>24.668617</td>\n",
       "      <td>0.966815</td>\n",
       "    </tr>\n",
       "    <tr>\n",
       "      <th>20</th>\n",
       "      <td>kodak_im07</td>\n",
       "      <td>data/curves/kodak_im07_RECON_0.915bpp.png</td>\n",
       "      <td>11.521851</td>\n",
       "      <td>0.915034</td>\n",
       "      <td>0.019328</td>\n",
       "      <td>33.104778</td>\n",
       "      <td>0.990212</td>\n",
       "    </tr>\n",
       "    <tr>\n",
       "      <th>21</th>\n",
       "      <td>kodak_im05</td>\n",
       "      <td>data/curves/kodak_im05_RECON_1.202bpp.png</td>\n",
       "      <td>15.983276</td>\n",
       "      <td>1.202367</td>\n",
       "      <td>0.038055</td>\n",
       "      <td>27.457514</td>\n",
       "      <td>0.981601</td>\n",
       "    </tr>\n",
       "    <tr>\n",
       "      <th>22</th>\n",
       "      <td>kodak_im22</td>\n",
       "      <td>data/curves/kodak_im22_RECON_0.985bpp.png</td>\n",
       "      <td>14.281616</td>\n",
       "      <td>0.985465</td>\n",
       "      <td>0.041179</td>\n",
       "      <td>30.997753</td>\n",
       "      <td>0.976881</td>\n",
       "    </tr>\n",
       "    <tr>\n",
       "      <th>23</th>\n",
       "      <td>kodak_im02</td>\n",
       "      <td>data/curves/kodak_im02_RECON_0.883bpp.png</td>\n",
       "      <td>12.573140</td>\n",
       "      <td>0.882816</td>\n",
       "      <td>0.039592</td>\n",
       "      <td>32.471104</td>\n",
       "      <td>0.971988</td>\n",
       "    </tr>\n",
       "  </tbody>\n",
       "</table>\n",
       "</div>"
      ],
      "text/plain": [
       "   input_filename                            output_filename  bpp_original  \\\n",
       "0      kodak_im15  data/curves/kodak_im15_RECON_0.806bpp.png     12.463013   \n",
       "1      kodak_im12  data/curves/kodak_im12_RECON_0.844bpp.png     10.803711   \n",
       "2      kodak_im18  data/curves/kodak_im18_RECON_1.061bpp.png     15.888408   \n",
       "3      kodak_im08  data/curves/kodak_im08_RECON_1.178bpp.png     16.041464   \n",
       "4      kodak_im21  data/curves/kodak_im21_RECON_0.878bpp.png     12.960835   \n",
       "5      kodak_im14  data/curves/kodak_im14_RECON_1.090bpp.png     14.082866   \n",
       "6      kodak_im11  data/curves/kodak_im11_RECON_0.977bpp.png     12.634746   \n",
       "7      kodak_im23  data/curves/kodak_im23_RECON_0.728bpp.png     11.344319   \n",
       "8      kodak_im20  data/curves/kodak_im20_RECON_0.659bpp.png     10.019165   \n",
       "9      kodak_im01  data/curves/kodak_im01_RECON_1.155bpp.png     14.984151   \n",
       "10     kodak_im06  data/curves/kodak_im06_RECON_0.974bpp.png     12.592753   \n",
       "11     kodak_im16  data/curves/kodak_im16_RECON_0.887bpp.png     10.869283   \n",
       "12     kodak_im04  data/curves/kodak_im04_RECON_0.888bpp.png     12.968587   \n",
       "13     kodak_im19  data/curves/kodak_im19_RECON_0.913bpp.png     13.661214   \n",
       "14     kodak_im10  data/curves/kodak_im10_RECON_0.895bpp.png     12.074036   \n",
       "15     kodak_im03  data/curves/kodak_im03_RECON_0.760bpp.png     10.231282   \n",
       "16     kodak_im09  data/curves/kodak_im09_RECON_0.792bpp.png     11.859111   \n",
       "17     kodak_im24  data/curves/kodak_im24_RECON_1.065bpp.png     14.371684   \n",
       "18     kodak_im17  data/curves/kodak_im17_RECON_0.899bpp.png     12.249309   \n",
       "19     kodak_im13  data/curves/kodak_im13_RECON_1.167bpp.png     16.738119   \n",
       "20     kodak_im07  data/curves/kodak_im07_RECON_0.915bpp.png     11.521851   \n",
       "21     kodak_im05  data/curves/kodak_im05_RECON_1.202bpp.png     15.983276   \n",
       "22     kodak_im22  data/curves/kodak_im22_RECON_0.985bpp.png     14.281616   \n",
       "23     kodak_im02  data/curves/kodak_im02_RECON_0.883bpp.png     12.573140   \n",
       "\n",
       "       q_bpp     LPIPS       PSNR   MS_SSIM  \n",
       "0   0.805802  0.033382  31.896833  0.981218  \n",
       "1   0.843865  0.032473  33.686520  0.982517  \n",
       "2   1.060870  0.045519  28.477293  0.977917  \n",
       "3   1.177995  0.046584  26.155327  0.981028  \n",
       "4   0.878326  0.039994  29.680775  0.983347  \n",
       "5   1.090473  0.053228  29.386656  0.980525  \n",
       "6   0.977109  0.039119  30.238386  0.980469  \n",
       "7   0.728376  0.015856  34.532951  0.987773  \n",
       "8   0.659061  0.024829  32.181431  0.985066  \n",
       "9   1.155156  0.049943  28.050940  0.977393  \n",
       "10  0.973773  0.046690  28.916859  0.976091  \n",
       "11  0.887061  0.040571  31.800447  0.981585  \n",
       "12  0.888382  0.031516  32.768391  0.980173  \n",
       "13  0.912858  0.039670  30.405529  0.979375  \n",
       "14  0.894744  0.026281  32.841240  0.986636  \n",
       "15  0.759665  0.027131  33.416500  0.985125  \n",
       "16  0.791672  0.025579  33.445538  0.986424  \n",
       "17  1.064671  0.041955  27.559721  0.981769  \n",
       "18  0.899392  0.027408  32.608784  0.988214  \n",
       "19  1.167168  0.089811  24.668617  0.966815  \n",
       "20  0.915034  0.019328  33.104778  0.990212  \n",
       "21  1.202367  0.038055  27.457514  0.981601  \n",
       "22  0.985465  0.041179  30.997753  0.976881  \n",
       "23  0.882816  0.039592  32.471104  0.971988  "
      ]
     },
     "execution_count": 8,
     "metadata": {},
     "output_type": "execute_result"
    }
   ],
   "source": []
  },
  {
   "cell_type": "code",
   "execution_count": null,
   "metadata": {},
   "outputs": [],
   "source": []
  }
 ],
 "metadata": {
  "kernelspec": {
   "display_name": "Python 3",
   "language": "python",
   "name": "python3"
  },
  "language_info": {
   "codemirror_mode": {
    "name": "ipython",
    "version": 3
   },
   "file_extension": ".py",
   "mimetype": "text/x-python",
   "name": "python",
   "nbconvert_exporter": "python",
   "pygments_lexer": "ipython3",
   "version": "3.6.10"
  }
 },
 "nbformat": 4,
 "nbformat_minor": 4
}
